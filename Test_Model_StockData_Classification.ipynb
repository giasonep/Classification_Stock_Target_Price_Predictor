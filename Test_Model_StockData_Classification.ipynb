{
 "cells": [
  {
   "cell_type": "code",
   "execution_count": 38,
   "id": "90b20fd2-5090-4cfb-909d-4b833fcaf9c4",
   "metadata": {},
   "outputs": [],
   "source": [
    "import numpy as np\n",
    "import pandas as pd\n",
    "import pickle\n",
    "import warnings\n",
    "\n",
    "# sql import\n",
    "from sqlalchemy import create_engine\n",
    "from sklearn.ensemble import RandomForestClassifier\n",
    "from sklearn.preprocessing import StandardScaler\n",
    "from sklearn.model_selection import train_test_split, cross_val_score, GridSearchCV, RandomizedSearchCV\n",
    "from sklearn import metrics\n",
    "from sklearn.metrics import precision_score, recall_score, accuracy_score, roc_auc_score, auc, f1_score\n",
    "from sklearn.metrics import confusion_matrix, classification_report, fbeta_score, roc_curve"
   ]
  },
  {
   "cell_type": "code",
   "execution_count": 39,
   "id": "f66b7a70-276e-4407-96e2-a23477a2fb76",
   "metadata": {},
   "outputs": [],
   "source": [
    "# gain the ability to see all rows/columns if desired\n",
    "pd.set_option('display.max_rows', None)\n",
    "pd.set_option('display.max_columns', None)\n",
    "# ignore warnings\n",
    "warnings.filterwarnings(\"ignore\")  "
   ]
  },
  {
   "cell_type": "code",
   "execution_count": 74,
   "id": "12df4c94-bd6a-4d63-9a49-153dfb00ce9d",
   "metadata": {},
   "outputs": [],
   "source": [
    "# create sql engine for stock database\n",
    "engineStocks = create_engine(\"sqlite:///stocks.db\")\n",
    "# assign the database to pandas df\n",
    "stocks_df = pd.read_sql('''SELECT * FROM \"stocks_table\"''', engineStocks)\n",
    "# stocks_df = stocks_df[(stocks_df['month'] == '2021-09')]\n",
    "stocks_df = stocks_df[(stocks_df['target'] == 'Success') | (stocks_df['target'] == 'Failure') | (stocks_df['target'] == 'StillWorking')]"
   ]
  },
  {
   "cell_type": "code",
   "execution_count": 75,
   "id": "52efc546-198a-4afd-acf3-736d4e56cc38",
   "metadata": {},
   "outputs": [],
   "source": [
    "# create sql engine for spy database\n",
    "engineSpy = create_engine(\"sqlite:///spy.db\")\n",
    "# assign the database to pandas df\n",
    "spy_df = pd.read_sql('''SELECT * FROM \"spy_table\"''', engineSpy)\n",
    "# spy_df = spy_df[(spy_df['month'] == '2021-10')]\n",
    "# spy_df = spy_df.iloc[[8]]\n",
    "# spy_df['month'] = '2021-09'"
   ]
  },
  {
   "cell_type": "code",
   "execution_count": 80,
   "id": "8412adaa-4eda-4513-821c-747c68cb4989",
   "metadata": {},
   "outputs": [],
   "source": [
    "# merge stocks_df and spy_df\n",
    "df = pd.merge(stocks_df, spy_df, left_on=['dateBreachedF1'], right_on=['full_date'], how='left')"
   ]
  },
  {
   "cell_type": "code",
   "execution_count": 81,
   "id": "1b3d7c1c-3c9d-444f-a044-84df445572c4",
   "metadata": {},
   "outputs": [],
   "source": [
    "## transform the data so it is ready for modeling\n",
    "# make sure year column is float\n",
    "df['year'] = df['year'].astype(float)\n",
    "# remove the year from the month and return month only as an int\n",
    "df['monthDigit'] = df['month'].apply(lambda x: int(x.split('-')[1]))\n",
    "# drop column not needed\n",
    "df = df.drop('dateBreachedF1', axis=1)\n",
    "# turn target column into binary variables\n",
    "df['target'] = df['target'].apply(lambda x: 1 if x == 'Success' or x == 'StillWorking' else 0)\n",
    "# move the target column to the first position (out of the middle)\n",
    "first_col = df.pop('target')\n",
    "df.insert(0, 'target', first_col)\n",
    "# remove any rows with risk greater than 100% and less than 0%\n",
    "df = df[(df['perRisk'] <= 100) & (df['perRisk'] >= 0)]"
   ]
  },
  {
   "cell_type": "code",
   "execution_count": 82,
   "id": "655ed637-cda4-48d5-a5cd-81e4de280883",
   "metadata": {},
   "outputs": [],
   "source": [
    "# use all data except for the most recent month in order to test Sept and see how it performed\n",
    "df_model = df[(df['monthDigit'] == 9) & (df['year'] == 2021)]\n",
    "# drop not needed columns and highly correlated columns\n",
    "df_model = df_model.drop(['threeMoChng', 'perCapture', 'perRisk', 'ticker', 'full_date', 'revStratUp', 'month', 'longYrStuck', 'longCompndYrStuck', 'longQtrStuck', 'longCompndQtrStuck'], axis=1)\n",
    "# get all dummy variables from the dataframe\n",
    "df_model = pd.get_dummies(df_model)\n",
    "# remove all np.inf variables from the dataframe so the data can be modeleded properly\n",
    "df_model = df_model.replace([np.inf, -np.inf], np.nan).dropna(axis=0)"
   ]
  },
  {
   "cell_type": "code",
   "execution_count": 83,
   "id": "d995c815-6426-4ce9-bb03-e512063f76e6",
   "metadata": {},
   "outputs": [
    {
     "data": {
      "text/plain": [
       "(547, 40)"
      ]
     },
     "execution_count": 83,
     "metadata": {},
     "output_type": "execute_result"
    }
   ],
   "source": [
    "df_model.shape"
   ]
  },
  {
   "cell_type": "code",
   "execution_count": 84,
   "id": "f2bcd05a-06c2-4d31-a142-38d7c94c968c",
   "metadata": {},
   "outputs": [],
   "source": [
    "# add columns needed to run model--these columns do not populate because none of these scenarios existed in the month of September\n",
    "df_model['combo_111'] = 0"
   ]
  },
  {
   "cell_type": "code",
   "execution_count": 85,
   "id": "d352e13b-4d1d-445a-9208-5e4a342af656",
   "metadata": {},
   "outputs": [],
   "source": [
    "# Import the model\n",
    "rf = pickle.load(open('rf_model.pkl','rb'))"
   ]
  },
  {
   "cell_type": "code",
   "execution_count": 86,
   "id": "3f6f7891-c7af-4aae-b3f8-9632628a1f4e",
   "metadata": {},
   "outputs": [],
   "source": [
    "# assign X and y variables\n",
    "X = df_model.iloc[:, 1:]\n",
    "y = df_model.iloc[:, 0]"
   ]
  },
  {
   "cell_type": "code",
   "execution_count": 87,
   "id": "21fd5a67-ede2-421a-8f2e-1bca05e008b2",
   "metadata": {},
   "outputs": [],
   "source": [
    "# scale the data\n",
    "std_scale = StandardScaler()\n",
    "X_scaled = std_scale.fit_transform(X)"
   ]
  },
  {
   "cell_type": "code",
   "execution_count": 88,
   "id": "f62deda3-0762-459d-b27b-32d733743d8f",
   "metadata": {},
   "outputs": [
    {
     "name": "stdout",
     "output_type": "stream",
     "text": [
      "Accuracy Score: 0.8080438756855576\n"
     ]
    }
   ],
   "source": [
    "y_predict = rf.predict(X_scaled)\n",
    "\n",
    "print(\"Accuracy Score:\", metrics.accuracy_score(y, y_predict))"
   ]
  },
  {
   "cell_type": "code",
   "execution_count": 89,
   "id": "43f70557-67e0-4170-a02b-d8558860c5e1",
   "metadata": {},
   "outputs": [],
   "source": [
    "# Preictions\n",
    "y_predict = rf.predict_proba(X_scaled)"
   ]
  },
  {
   "cell_type": "code",
   "execution_count": 90,
   "id": "d6f30900-2dd4-4a39-90db-44de1cc18aa3",
   "metadata": {},
   "outputs": [
    {
     "data": {
      "text/plain": [
       "(547, 40)"
      ]
     },
     "execution_count": 90,
     "metadata": {},
     "output_type": "execute_result"
    }
   ],
   "source": [
    "X.shape"
   ]
  },
  {
   "cell_type": "code",
   "execution_count": 94,
   "id": "96244442-a945-4f6e-a6a0-6bc176c33440",
   "metadata": {},
   "outputs": [
    {
     "data": {
      "text/plain": [
       "array([0.944, 0.996, 0.856, 0.804, 0.956, 0.936, 0.412, 0.888, 0.356,\n",
       "       0.824])"
      ]
     },
     "execution_count": 94,
     "metadata": {},
     "output_type": "execute_result"
    }
   ],
   "source": [
    "y_predict[:10,1]"
   ]
  },
  {
   "cell_type": "markdown",
   "id": "358b836e-dc28-4de0-9fcb-7214cb823c00",
   "metadata": {},
   "source": [
    "### Create a dataframe to analyize the predicitons"
   ]
  },
  {
   "cell_type": "code",
   "execution_count": 110,
   "id": "45efd3a5-4a6e-4346-9d08-587b7880600b",
   "metadata": {},
   "outputs": [],
   "source": [
    "# get latest month in the dataframe\n",
    "df_compare = df[(df['month'] == '2021-09')]\n",
    "# drop not needed columns and highly correlated columns\n",
    "df_compare = df_compare.drop(['threeMoChng', 'revStratUp', 'month', 'full_date', 'longYrStuck', 'longCompndYrStuck', 'longQtrStuck', 'longCompndQtrStuck'], axis=1)\n",
    "# remove all np.inf variables from the dataframe so the data can be modeleded properly\n",
    "df_compare = df_compare.replace([np.inf, -np.inf], np.nan).dropna(axis=0)"
   ]
  },
  {
   "cell_type": "code",
   "execution_count": 111,
   "id": "96efb57d-9987-4acb-9e4f-91415b545744",
   "metadata": {},
   "outputs": [],
   "source": [
    "df_compare['predict'] = y_predict[:,1]"
   ]
  },
  {
   "cell_type": "code",
   "execution_count": 113,
   "id": "9ee6cef4-538d-4703-b823-998f6e5afb94",
   "metadata": {},
   "outputs": [],
   "source": [
    "# df_compare = df_compare[(df_compare['perCapture'] > 2.5) & (df_compare['perRisk'] < 10)] \n",
    "df_compare = df_compare[(df_compare['perCapture'] > 5)] "
   ]
  },
  {
   "cell_type": "code",
   "execution_count": 114,
   "id": "dbe28253-abb4-400f-812c-ddc54a32dd3d",
   "metadata": {},
   "outputs": [
    {
     "data": {
      "text/html": [
       "<div>\n",
       "<style scoped>\n",
       "    .dataframe tbody tr th:only-of-type {\n",
       "        vertical-align: middle;\n",
       "    }\n",
       "\n",
       "    .dataframe tbody tr th {\n",
       "        vertical-align: top;\n",
       "    }\n",
       "\n",
       "    .dataframe thead th {\n",
       "        text-align: right;\n",
       "    }\n",
       "</style>\n",
       "<table border=\"1\" class=\"dataframe\">\n",
       "  <thead>\n",
       "    <tr style=\"text-align: right;\">\n",
       "      <th></th>\n",
       "      <th>ticker</th>\n",
       "      <th>combo</th>\n",
       "      <th>predict</th>\n",
       "      <th>perCapture</th>\n",
       "      <th>perRisk</th>\n",
       "      <th>riskReward</th>\n",
       "      <th>target</th>\n",
       "    </tr>\n",
       "  </thead>\n",
       "  <tbody>\n",
       "    <tr>\n",
       "      <th>53475</th>\n",
       "      <td>TGLS</td>\n",
       "      <td>1</td>\n",
       "      <td>0.996</td>\n",
       "      <td>5.10</td>\n",
       "      <td>14.0</td>\n",
       "      <td>0.36</td>\n",
       "      <td>1</td>\n",
       "    </tr>\n",
       "    <tr>\n",
       "      <th>59234</th>\n",
       "      <td>HLIT</td>\n",
       "      <td>1</td>\n",
       "      <td>0.984</td>\n",
       "      <td>6.35</td>\n",
       "      <td>10.3</td>\n",
       "      <td>0.62</td>\n",
       "      <td>1</td>\n",
       "    </tr>\n",
       "    <tr>\n",
       "      <th>49446</th>\n",
       "      <td>OCGN</td>\n",
       "      <td>1</td>\n",
       "      <td>0.976</td>\n",
       "      <td>6.90</td>\n",
       "      <td>23.2</td>\n",
       "      <td>0.30</td>\n",
       "      <td>1</td>\n",
       "    </tr>\n",
       "    <tr>\n",
       "      <th>45273</th>\n",
       "      <td>TDUP</td>\n",
       "      <td>1</td>\n",
       "      <td>0.944</td>\n",
       "      <td>7.00</td>\n",
       "      <td>11.1</td>\n",
       "      <td>0.63</td>\n",
       "      <td>1</td>\n",
       "    </tr>\n",
       "    <tr>\n",
       "      <th>19962</th>\n",
       "      <td>RUN</td>\n",
       "      <td>1</td>\n",
       "      <td>0.924</td>\n",
       "      <td>12.70</td>\n",
       "      <td>17.7</td>\n",
       "      <td>0.72</td>\n",
       "      <td>1</td>\n",
       "    </tr>\n",
       "  </tbody>\n",
       "</table>\n",
       "</div>"
      ],
      "text/plain": [
       "      ticker combo  predict  perCapture  perRisk  riskReward  target\n",
       "53475   TGLS     1    0.996        5.10     14.0        0.36       1\n",
       "59234   HLIT     1    0.984        6.35     10.3        0.62       1\n",
       "49446   OCGN     1    0.976        6.90     23.2        0.30       1\n",
       "45273   TDUP     1    0.944        7.00     11.1        0.63       1\n",
       "19962    RUN     1    0.924       12.70     17.7        0.72       1"
      ]
     },
     "execution_count": 114,
     "metadata": {},
     "output_type": "execute_result"
    }
   ],
   "source": [
    "df_compare = df_compare[['ticker', 'combo', 'predict', 'perCapture', 'perRisk', 'riskReward', 'target']].sort_values('predict', ascending=False)\n",
    "df_compare.head(5)"
   ]
  },
  {
   "cell_type": "code",
   "execution_count": 115,
   "id": "3eea9641-1ec5-4813-9d43-577b993bc26d",
   "metadata": {},
   "outputs": [],
   "source": [
    "df_compare.to_csv('out.csv', index=False)  "
   ]
  },
  {
   "cell_type": "code",
   "execution_count": null,
   "id": "27b56b25-1351-4f0a-a176-eeff2ca70102",
   "metadata": {},
   "outputs": [],
   "source": []
  }
 ],
 "metadata": {
  "kernelspec": {
   "display_name": "Python [conda env:metis] *",
   "language": "python",
   "name": "conda-env-metis-py"
  },
  "language_info": {
   "codemirror_mode": {
    "name": "ipython",
    "version": 3
   },
   "file_extension": ".py",
   "mimetype": "text/x-python",
   "name": "python",
   "nbconvert_exporter": "python",
   "pygments_lexer": "ipython3",
   "version": "3.8.10"
  }
 },
 "nbformat": 4,
 "nbformat_minor": 5
}
